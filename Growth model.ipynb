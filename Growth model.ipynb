{
 "cells": [
  {
   "cell_type": "code",
   "execution_count": 18,
   "id": "94668147-e461-499d-949d-cedd1e03ffe4",
   "metadata": {},
   "outputs": [],
   "source": [
    "import numpy as np\n",
    "import pandas as pd\n",
    "from sklearn.svm import SVR\n",
    "from sklearn.ensemble import RandomForestRegressor, GradientBoostingRegressor\n",
    "from sklearn.tree import DecisionTreeRegressor\n",
    "from sklearn.preprocessing import PolynomialFeatures\n",
    "from sklearn.pipeline import make_pipeline\n",
    "from sklearn.linear_model import LinearRegression\n",
    "from sklearn.linear_model import LogisticRegression\n",
    "from sklearn.model_selection import GridSearchCV\n",
    "from sklearn.metrics import r2_score, mean_squared_error, make_scorer\n"
   ]
  },
  {
   "cell_type": "code",
   "execution_count": 19,
   "id": "a7646866-ee6f-4bdb-a363-06ff781b2ced",
   "metadata": {},
   "outputs": [],
   "source": [
    "writer_r = pd.ExcelWriter(r'F:\\...')"
   ]
  },
  {
   "cell_type": "code",
   "execution_count": 66,
   "id": "1149b312-c5d8-4ab5-bcf4-4a6b468de03e",
   "metadata": {},
   "outputs": [
    {
     "name": "stdout",
     "output_type": "stream",
     "text": [
      "Index(['Grow date', 'Light period', 'Cumulative light duration',\n",
      "       'Plant height', 'Stem diameter', 'Cotyledon length', 'Cotyledon width',\n",
      "       'Total leaf area', 'Leaf number'],\n",
      "      dtype='object')\n"
     ]
    }
   ],
   "source": [
    "data_path = r'F:\\..'\n",
    "sheet_name='Sheet1'\n",
    "data = pd.read_excel(data_path,skiprows=0,sheet_name=sheet_name)\n",
    "\n",
    "# data= data.dropna()\n",
    "print(data.columns)\n",
    "features=data[data.columns[:3]]\n",
    "labels=data[data.columns[3]]\n",
    "print(features, labels)"
   ]
  },
  {
   "cell_type": "code",
   "execution_count": null,
   "id": "839c7bcc-7c85-40c6-a41d-c215f97eae98",
   "metadata": {
    "tags": []
   },
   "outputs": [],
   "source": [
    "# 定义RMSE\n",
    "def rmse_scorer(y_true, y_pred):\n",
    "    return np.sqrt(mean_squared_error(y_true, y_pred))\n",
    "\n",
    "rmse = make_scorer(rmse_scorer, greater_is_better=False)\n",
    "\n",
    "\n",
    "# RF\n",
    "# param_grid = {\n",
    "#     'n_estimators':np.arange(1,40,1),\n",
    "#     'max_depth': np.arange(1,10,1),\n",
    "# }\n",
    "# rf = RandomForestRegressor()\n",
    "# grid_search = GridSearchCV(estimator=gbdt, param_grid=param_grid, cv=5, scoring={'R2': 'r2', 'RMSE': rmse}, refit='R2')\n",
    "# grid_search.fit(features, labels)\n",
    "\n",
    "#SVM\n",
    "# param_grid = {\n",
    "#     'C': np.arange(0, 15, 0.1),\n",
    "#     # 'gamma': np.arange(0, 0.010, 0.001)\n",
    "# }\n",
    "# SVM = SVR(kernel='rbf')\n",
    "# scoring = {'R2': 'r2', 'RMSE': rmse}\n",
    "# grid_search = GridSearchCV(estimator=SVM, param_grid=param_grid, cv=5, scoring=scoring, refit='R2', return_train_score=False)\n",
    "# grid_search.fit(features, labels)\n",
    "\n",
    "\n",
    "\n",
    "#GBDT\n",
    "# param_grid = {\n",
    "#     'n_estimators': np.arange(0,40,1),\n",
    "#     'learning_rate': [0.01, 0.1],\n",
    "#     'max_depth': np.arange(1,10,1),\n",
    "# }\n",
    "# gbdt = GradientBoostingRegressor()\n",
    "# grid_search = GridSearchCV(estimator=gbdt, param_grid=param_grid, cv=5, scoring={'R2': 'r2', 'RMSE': rmse}, refit='R2')\n",
    "# grid_search.fit(features, labels)\n",
    "\n",
    "\n",
    "# # DT\n",
    "# param_grid = {\n",
    "#     'max_depth': np.arange(1, 10, 1),\n",
    "#     'min_samples_split': np.arange(2, 10, 1)\n",
    "# }\n",
    "# dt = DecisionTreeRegressor()\n",
    "# grid_search = GridSearchCV(estimator=dt, param_grid=param_grid, cv=5, scoring={'R2': 'r2', 'RMSE': rmse}, refit='R2')\n",
    "# grid_search.fit(features, labels)\n",
    "\n",
    "\n",
    "#Polynomial regression\n",
    "# param_grid = {\n",
    "#     'polynomialfeatures__degree': np.arange(1, 5, 1),\n",
    "# }\n",
    "# poly_model = make_pipeline(PolynomialFeatures(), LinearRegression())\n",
    "# grid_search = GridSearchCV(estimator=poly_model, param_grid=param_grid, cv=5, scoring={'R2': 'r2', 'RMSE': rmse}, refit='R2')\n",
    "# grid_search.fit(features, labels)\n",
    "\n",
    "# Print the R² value for each parameter combination\n",
    "mean_test_r2 = grid_search.cv_results_['mean_test_R2']\n",
    "params = grid_search.cv_results_['params']\n",
    "mean_test_RMSE=grid_search.cv_results_['mean_test_RMSE']\n",
    "\n",
    "print(\"\\nR² and rmse scores for all parameter combinations:\")\n",
    "for mean,rmse, param in zip(mean_test_r2, mean_test_RMSE, params):\n",
    "    print(\"Parameters: {} => R²: {:.4f} rmse:{:.4f}\".format(param, mean,-rmse))\n",
    "    \n",
    "#Print the best parameters and results.\n",
    "best_index = grid_search.best_index_\n",
    "print(\"Best parameters:\", grid_search.best_params_)\n",
    "print(\"Best cross-validation R2 score: {:.4f}\".format(mean_test_r2[best_index]))\n",
    "print(\"Corresponding RMSE for best R2:\", mean_test_RMSE[best_index])\n",
    "\n",
    "\n",
    "# save the best parameters and results\n",
    "best_results = {\n",
    "    'Model': 'DT',\n",
    "    'Best R2': grid_search.best_score_,\n",
    "    'Best RMSE': grid_search.cv_results_['mean_test_RMSE'][grid_search.best_index_],\n",
    "    'Best Parameters': grid_search.best_params_\n",
    "}\n",
    "\n",
    "results_df = pd.DataFrame(best_results)\n",
    "results_df.to_excel(writer_r,sheet_name='height')\n"
   ]
  },
  {
   "cell_type": "code",
   "execution_count": 42,
   "id": "c4e87a8c-f63c-43b1-8b19-06702ba8204d",
   "metadata": {},
   "outputs": [
    {
     "data": {
      "image/png": "[encoded data removed]",
      "text/plain": [
       "<Figure size 640x480 with 1 Axes>"
      ]
     },
     "metadata": {},
     "output_type": "display_data"
    },
    {
     "name": "stdout",
     "output_type": "stream",
     "text": [
      "          0                          1\n",
      "0  0.785832                  Grow date\n",
      "1  0.185454  Cumulative light duration\n",
      "2  0.028714               Light period\n"
     ]
    }
   ],
   "source": [
    "#构造重要特征变量\n",
    "\n",
    "best_model = grid_search.best_estimator_\n",
    "\n",
    "# 获取并排序特征重要性\n",
    "importance = pd.Series(best_model.feature_importances_, index = features.columns)\n",
    "importance.sort_values().plot(kind='barh')\n",
    "# importance1= importance.sort_values(ascending=False)\n",
    "plt.rcParams['font.sans-serif'] = ['SimHei']  \n",
    "plt.rcParams['axes.unicode_minus'] = False \n",
    "plt.show()\n",
    "\n",
    "sorted_features = sorted(zip(importance,features.columns),reverse=True)\n",
    "sorted_features=pd.DataFrame(sorted_features)\n",
    "sorted_features.to_excel(writer_r,index=0,sheet_name='height')\n",
    "print(sorted_features)"
   ]
  },
  {
   "cell_type": "code",
   "execution_count": null,
   "id": "cf95b270-0719-46f5-a4e6-6843f7a7f980",
   "metadata": {},
   "outputs": [],
   "source": [
    "#save model and data\n",
    "import os\n",
    "import pickle\n",
    "\n",
    "name='height'\n",
    "\n",
    "path = r'F:\\..'\n",
    "path_model = path + '\\\\' + name + '.pkl'\n",
    "\n",
    "try:\n",
    "    with open(path_model, 'wb') as f:\n",
    "        pickle.dump(grid_search.best_estimator_, f)  \n",
    "    print(\"The model has been successfully saved:\", path_model)\n",
    "except Exception as e:\n",
    "    print(\"Error occurred while saving the model:\", e)"
   ]
  },
  {
   "cell_type": "code",
   "execution_count": null,
   "id": "c8d891cc-cf52-43b9-b05f-b3c2585ed797",
   "metadata": {
    "tags": []
   },
   "outputs": [],
   "source": [
    "#Perform calculations on the dataset.\n",
    "# Best model prediction on all data\n",
    "best_model = grid_search.best_estimator_\n",
    "y_pred_all = best_model.predict(features)\n",
    "\n",
    "# Calculate R2 and  RMSE on all data\n",
    "r2_all = r2_score(labels, y_pred_all)\n",
    "rmse_all = np.sqrt(mean_squared_error(labels, y_pred_all))\n",
    "print(f\"RMSE on all data: {rmse_all:.4f}, R2 on all data: {r2_all:.4f}\")\n",
    "\n",
    "#save\n",
    "d= {'true':labels, 'predicted':y_pred_all,'R2':r2_all,'RMSE':rmse_all}\n",
    "results_df = pd.DataFrame(d)\n",
    "results_df.to_excel(writer_r,sheet_name='height')\n"
   ]
  },
  {
   "cell_type": "code",
   "execution_count": null,
   "id": "ea0280d5-5dc4-492c-be0d-c00d976adb5d",
   "metadata": {},
   "outputs": [],
   "source": [
    "# Plotting\n",
    "plt.rcParams['font.family'] = 'Times New Roman'\n",
    "plt.rcParams['axes.linewidth'] = 1\n",
    "# Bold the axis lines\n",
    "plt.rcParams['xtick.labelsize'] = 11\n",
    "plt.rcParams['ytick.labelsize'] = 11\n",
    "plt.scatter(labels, y_pred_all, color='blue', label='Predicted vs True',s=22)\n",
    "plt.plot([labels.min(), labels.max()], [labels.min(), labels.max()], 'r--', lw=2, label='Ideal fit')\n",
    "plt.xlabel('True values(cm)',fontweight='bold',fontsize=14)\n",
    "plt.ylabel('Predicted values(cm)',fontweight='bold',fontsize=14)\n",
    "# plt.title('Scatter Plot of True vs Predicted Values (All Data)')\n",
    "# Add R² and RMSE annotations\n",
    "plt.text(0.05, 0.8, f'R² = {r2_all:.4f}\\nRMSE = {rmse_all:.4f}', \n",
    "         transform=plt.gca().transAxes, fontsize=10, verticalalignment='top')\n",
    "\n",
    "plt.legend()\n",
    "# path_fig = path + '\\\\' + sheet_name + '.pdf'\n",
    "plt.savefig(r'F:\\..',format='pdf')\n",
    "plt.show()\n"
   ]
  },
  {
   "cell_type": "code",
   "execution_count": null,
   "id": "a5d6a7c3-6f4e-4573-b1d3-08dd8828e80e",
   "metadata": {},
   "outputs": [],
   "source": [
    "writer_r.save()\n",
    "\n",
    "writer_r.close()\n"
   ]
  },
  {
   "cell_type": "code",
   "execution_count": null,
   "id": "257e5877-25e9-4733-9c6c-2a0f4a655e85",
   "metadata": {},
   "outputs": [],
   "source": []
  }
 ],
 "metadata": {
  "kernelspec": {
   "display_name": "Python 3 (ipykernel)",
   "language": "python",
   "name": "python3"
  },
  "language_info": {
   "codemirror_mode": {
    "name": "ipython",
    "version": 3
   },
   "file_extension": ".py",
   "mimetype": "text/x-python",
   "name": "python",
   "nbconvert_exporter": "python",
   "pygments_lexer": "ipython3",
   "version": "3.11.3"
  }
 },
 "nbformat": 4,
 "nbformat_minor": 5
}
